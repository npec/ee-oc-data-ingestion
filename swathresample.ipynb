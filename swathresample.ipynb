{
  "cells": [
    {
      "cell_type": "code",
      "execution_count": null,
      "id": "1183aeb1",
      "metadata": {
        "id": "1183aeb1"
      },
      "outputs": [],
      "source": [
        "#@title Copyright 2022 E.R. Maure { display-mode: \"form\" }\n",
        "# Licensed under the MIT License;\n",
        "# \n",
        "# Permission is hereby granted, free of charge, to any person obtaining a copy \n",
        "# of this software and associated documentation files (the \"Software\"), to deal\n",
        "# in the Software without restriction, including without limitation the rights \n",
        "# to use, copy, modify, merge, publish, distribute, sublicense, and/or sell \n",
        "# copies of the Software, and to permit persons to whom the Software is \n",
        "# furnished to do so, subject to the following conditions:\n",
        "#\n",
        "# The above copyright notice and this permission notice shall be included in \n",
        "# all copies or substantial portions of the Software.\n",
        "# \n",
        "# THE SOFTWARE IS PROVIDED \"AS IS\", WITHOUT WARRANTY OF ANY KIND, EXPRESS OR \n",
        "# IMPLIED, INCLUDING BUT NOT LIMITED TO THE WARRANTIES OF MERCHANTABILITY, \n",
        "# FITNESS FOR A PARTICULAR PURPOSE AND NONINFRINGEMENT. IN NO EVENT SHALL THE \n",
        "# AUTHORS OR COPYRIGHT HOLDERS BE LIABLE FOR ANY CLAIM, DAMAGES OR OTHER \n",
        "# LIABILITY, WHETHER IN AN ACTION OF CONTRACT, TORT OR OTHERWISE, ARISING FROM, \n",
        "# OUT OF OR IN CONNECTION WITH THE SOFTWARE OR THE USE OR OTHER DEALINGS IN THE\n",
        "# SOFTWARE."
      ]
    },
    {
      "cell_type": "markdown",
      "id": "322779e4",
      "metadata": {
        "id": "322779e4"
      },
      "source": [
        "<table class=\"ee-notebook-buttons\" align=\"left\"><td>\n",
        "<a target=\"_blank\"  href=\"http://colab.research.google.com/github/google/earthengine-api/blob/master/python/examples/ipynb/Earth_Engine_asset_from_cloud_geotiff.ipynb\">\n",
        "    <img  width=60px src=\"https://upload.wikimedia.org/wikipedia/commons/d/d0/Google_Colaboratory_SVG_Logo.svg\" /> Run in Google Colab</a>\n",
        "</td><td>\n",
        "<a target=\"_blank\"  href=\"https://github.com/google/earthengine-api/blob/master/python/examples/ipynb/Earth_Engine_asset_from_cloud_geotiff.ipynb\"><img width=36px src=\"https://github.githubassets.com/images/modules/logos_page/GitHub-Mark.png\" /> View source on GitHub</a></td></table>"
      ]
    },
    {
      "cell_type": "markdown",
      "id": "e91c28ca",
      "metadata": {
        "id": "e91c28ca"
      },
      "source": [
        "# Table of contents\n",
        "- [Purpose](#Purpose)\n",
        "- [Library import](#Library-import)\n",
        "- [Input params](#Input-Params)\n",
        "- [Function definitions](#Function-definitions)\n",
        "- [GCloud and manifest file](#GCloud-and-manifest-file)\n",
        "- [Upload the file to GEE](#Upload-the-file-to-GEE)\n",
        "***"
      ]
    },
    {
      "cell_type": "markdown",
      "id": "5f3df044",
      "metadata": {
        "id": "5f3df044"
      },
      "source": [
        "# Purpose\n",
        "[Return to the \"Table of contents\"](#Table-of-contents)\n",
        "\n",
        "This notebook reproduces the steps in Figure 1 of the https://doi.org/10.3390/rsxxxx\n",
        "\n",
        "***"
      ]
    },
    {
      "cell_type": "markdown",
      "id": "010e3fec",
      "metadata": {
        "id": "010e3fec"
      },
      "source": [
        "# Library import   \n",
        "\n",
        "[Return to the \"Table of contents\"](#Table-of-contents)\n",
        "\n",
        "Import all required modules below for the Level-2 resampling.  \n",
        "Since we run the notebook in Google Colab, we can also install these modules prior to import.\n",
        "\n",
        "---"
      ]
    },
    {
      "cell_type": "code",
      "execution_count": null,
      "id": "3db76740",
      "metadata": {
        "id": "3db76740"
      },
      "outputs": [],
      "source": [
        "!pip install netcdf4 pyresample gdal h5py pyproj"
      ]
    },
    {
      "cell_type": "markdown",
      "id": "5858d300",
      "metadata": {
        "id": "5858d300"
      },
      "source": [
        "Clone the resampling repository.  \n",
        "It contains sample data and Python scripts for file IO"
      ]
    },
    {
      "cell_type": "code",
      "execution_count": null,
      "id": "a0901eef",
      "metadata": {
        "id": "a0901eef"
      },
      "outputs": [],
      "source": [
        "!git clone https://github.com/npec/ee-oc-data-ingestion.git"
      ]
    },
    {
      "cell_type": "code",
      "execution_count": null,
      "id": "b1cdbfca",
      "metadata": {
        "id": "b1cdbfca"
      },
      "outputs": [],
      "source": [
        "%cd ee-oc-data-ingestion"
      ]
    },
    {
      "cell_type": "code",
      "execution_count": null,
      "id": "2f72a903",
      "metadata": {
        "id": "2f72a903"
      },
      "outputs": [],
      "source": [
        "import os\n",
        "import subprocess\n",
        "import time\n",
        "from pathlib import Path\n",
        "\n",
        "import numpy as np\n",
        "from osgeo import osr, gdal"
      ]
    },
    {
      "cell_type": "markdown",
      "id": "5558f926",
      "metadata": {
        "id": "5558f926"
      },
      "source": [
        "Local imports"
      ]
    },
    {
      "cell_type": "code",
      "execution_count": null,
      "id": "49ae2ae7",
      "metadata": {
        "id": "49ae2ae7"
      },
      "outputs": [],
      "source": [
        "# from . import SwathResmaple"
      ]
    },
    {
      "cell_type": "markdown",
      "id": "00e570f7",
      "metadata": {
        "id": "00e570f7"
      },
      "source": [
        "# Input params\n",
        "[Return to the \"Table of contents\"](#Table-of-contents)\n",
        "\n",
        "Define the input file (netCDF4 or HDF5), output projection for the GeoTIFF file and the area id.  \n",
        "We can also define here the [Google cloud bucket](https://cloud.google.com/storage/docs/gsutil), the [Earth Engine Asset](https://developers.google.com/earth-engine/guides/asset_manager).  The EE asset is where GeoTIFF file is uploaded to.\n",
        "\n",
        "---"
      ]
    },
    {
      "cell_type": "markdown",
      "id": "b829c659",
      "metadata": {
        "id": "b829c659"
      },
      "source": [
        "1. The case of MODIS/Aqua sample file"
      ]
    },
    {
      "cell_type": "code",
      "execution_count": null,
      "id": "48a1eeea",
      "metadata": {
        "id": "48a1eeea"
      },
      "outputs": [],
      "source": [
        "# Smaple MODIS/Aqua file\n",
        "INPUT_FILE = Path('sample_data/A2022125035500.L2_LAC_OC.nc')\n",
        "# Target projection\n",
        "PROJ_NAME = 'laea'\n",
        "# Projection area ID\n",
        "# Output Path\n",
        "OPATH = Path('result').absolute()\n",
        "if not OPATH.is_dir():\n",
        "    OPATH.mkdir(parents=True)\n",
        "# GeoTIFF output\n",
        "TRG_TIFF = OPATH.joinpath('A2022125035500.L2_LAC_OC.tif')\n",
        "# projection id\n",
        "AREA_ID = 'custom'\n",
        "# Gcloud bucket \n",
        "BUCKET = 'gs://bucket_name'\n",
        "# Your user folder name and new asset name.\n",
        "# Giving a name of an existing asset will result in error\n",
        "ASSET_ID = '/users/name/folder-or-collection-id/new-asset'\n",
        "# Asset name should not contain dots (.)\n",
        "ASSET_NAME = 'A2022125035500_L2_LAC_OC"
      ]
    },
    {
      "cell_type": "markdown",
      "id": "5a7fe4cc",
      "metadata": {
        "id": "5a7fe4cc"
      },
      "source": [
        "2. The case of SGLI/GCOM-C sample files"
      ]
    },
    {
      "cell_type": "code",
      "execution_count": null,
      "id": "9540db49",
      "metadata": {
        "id": "9540db49"
      },
      "outputs": [],
      "source": [
        "# # Smaple SGLI/GCOM-C files\n",
        "# INPUT_FILE = [Path('sample_data/GC1SG1_202205030152F05810_L2SG_IWPRQ_3000.h5'),\n",
        "#               Path('sample_data/GC1SG1_202205030152F05810_L2SG_NWLRQ_3000.h5')]\n",
        "              \n",
        "# # Target projection\n",
        "# PROJ_NAME = 'laea'\n",
        "# # Projection area ID\n",
        "# # Output Path\n",
        "# OPATH = Path('result').absolute()\n",
        "# if not OPATH.is_dir():\n",
        "#     OPATH.mkdir(parents=True)\n",
        "# # GeoTIFF output\n",
        "# TRG_TIFF = OPATH.joinpath('GC1SG1_202205030152F05810_L2SG_OC_3000.tif')\n",
        "# # projection id\n",
        "# AREA_ID = 'custom'\n",
        "# # Gcloud bucket \n",
        "# BUCKET = 'gs://bucket_name'\n",
        "# # Your user folder name and new asset name.\n",
        "# # Giving a name of an existing asset will result in error\n",
        "# ASSET_ID = '/users/name/folder-or-collection-id/new-asset'\n",
        "# # Asset name should not contain dots (.)\n",
        "# ASSET_NAME = 'GC1SG1_202205030152F05810_L2SG_OC_3000"
      ]
    },
    {
      "cell_type": "markdown",
      "id": "09d32910",
      "metadata": {
        "id": "09d32910"
      },
      "source": [
        "# Function definitions\n",
        "[Return to the \"Table of contents\"](#Table-of-contents)\n",
        "\n",
        "Operations with Level-2 file \n",
        "`SwathResmaple` contains the following helper functions\n",
        "1. `SwathResmaple.resample` - for swath resampling, accepts, data, cutoff and sequence number\n",
        "2. `SwathResmaple.scale` - for data scaling into integer, accepts data and varname\n",
        "3. `SwathResmaple.open` - open a new GeoTIFF file in write mode, accepts number os bands\n",
        "4. `SwathResmaple.append` - append var(i) in the opened GeoTIFF, accept band sequence number and varname\n",
        "5. `SwathResmaple.translate` - GDAL translate the created GeoTIFF\n",
        "6. `SwathResmaple.close` - closes file, both netCDF4/HDF5 and GeoTIFF"
      ]
    },
    {
      "cell_type": "code",
      "execution_count": null,
      "id": "c6a235ff",
      "metadata": {
        "id": "c6a235ff"
      },
      "outputs": [],
      "source": [
        "with SwathResample(INPUT_FILE, trg_tif=TRG_TIFF, srs=PROJ_NAME, area_id=AREA_ID) as fid:\n",
        "    \n",
        "    # get the spatial resolution from file metadata\n",
        "    roi = fid.spatial_resolution()\n",
        "    \n",
        "    # in the case of SGLI pass two files, since CHL and Rrs are in separate files\n",
        "    keys = self.get_keys()\n",
        "    joined = '\\n\\t'.join(keys)\n",
        "    print(f'Variables being mapped\\n\\t{joined}')\n",
        "    \n",
        "    # open GeoTIFF file\n",
        "    fid.open(bands=len(keys))\n",
        "    \n",
        "    # to avoid memory errors, especially with SGLI 250 m, process one variable at a time\n",
        "    for i, key in enumerate(keys):\n",
        "        # Read data from file\n",
        "        sds = fid.get_data(key=key)\n",
        "        # Pyresample, use twice the resolution. \n",
        "        # compansate for the decrease in resolution towards swath edge\n",
        "        res = fid.resample(data=sds, i=i, roi=roi*2)\n",
        "        # Scale data to int\n",
        "        fid.data = fid.scale(key=key, data=res)\n",
        "        # output result in GeoTIFFe\n",
        "        fid.append(band=i, key=key)\n",
        "\n",
        "    # translate the tif\n",
        "    fid.translate()\n",
        "    subprocess.check_call(f'gdalinfo {TRG_TIFF}', shell=True)\n",
        "    # There is temporary file created internally, remove\n",
        "    tmp_file = fid.tmp_tif\n",
        "tmp_file.unlink(missing_ok=True)"
      ]
    },
    {
      "cell_type": "markdown",
      "id": "0529e09a",
      "metadata": {
        "id": "0529e09a"
      },
      "source": [
        "# GCloud and manifest file\n",
        "[Return to the \"Table of contents\"](#Table-of-contents)\n",
        "\n",
        "1. Send file to Google Cloud bucket (or file can also be [uploaded](https://developers.google.com/earth-engine/guides/image_upload) directly into GEE)\n",
        "2. Build ingestion manifest file \n",
        "3. Send to GEE using Earth Engine [command-line tools](https://developers.google.com/earth-engine/guides/command_line#upload) \n",
        "\n",
        "`build_manifest` accepts the GeoTIFF file, asset_id, asset_name and uri (location of the file in the Gcloud), builds the manifest file)"
      ]
    },
    {
      "cell_type": "code",
      "execution_count": null,
      "id": "28ff6a5b",
      "metadata": {
        "id": "28ff6a5b"
      },
      "outputs": [],
      "source": [
        "def build_manifest(file, asset_id, asset_name, uri):\n",
        "    \"\"\"\n",
        "    Writes earth engine manifest file for data upload\n",
        "    manifest file name\n",
        "    \"\"\"\n",
        "\n",
        "    dataset = gdal.Open(str(file), gdal.GA_ReadOnly)\n",
        "    attrs = dataset.GetMetadata()\n",
        "    update = attrs.update\n",
        "\n",
        "    data = {\n",
        "        \"name\": asset_id,\n",
        "        \"tilesets\": [\n",
        "            {'id': asset_name,\n",
        "             \"sources\": [\n",
        "                 {\"uris\": [uri]}\n",
        "             ]}\n",
        "        ],\n",
        "        \"start_time\": attrs.pop(\"time_coverage_start\"),\n",
        "        \"end_time\": attrs.pop(\"time_coverage_end\"),\n",
        "        'bands': [],\n",
        "        \"properties\": attrs\n",
        "    }\n",
        "    append = data['bands'].append\n",
        "\n",
        "    for count in range(dataset.RasterCount):\n",
        "        band = dataset.GetRasterBand(count + 1)\n",
        "        varname = band.GetDescription()\n",
        "\n",
        "        var_attrs = band.GetMetadata()\n",
        "        update(var_attrs)\n",
        "        if name == 'l2_flags':\n",
        "            append({\"id\": varname,\n",
        "                    'tileset_id': asset_name,\n",
        "                    \"pyramidingPolicy\": \"SAMPLE\",\n",
        "                    \"tileset_band_index\": count})\n",
        "        else:\n",
        "            novalue = band.GetNoDataValue()\n",
        "            append({\"id\": varname,\n",
        "                    'tileset_id': asset_name,\n",
        "                    \"tileset_band_index\": count,\n",
        "                    \"pyramidingPolicy\": \"MEAN\",\n",
        "                    \"missing_data\": {\n",
        "                        \"values\": [float(novalue)]}\n",
        "                    })\n",
        "\n",
        "    manifest = Path(f'result/{fid}_manifest.json').absolute()\n",
        "    # print(data)\n",
        "    with open(manifest, 'w') as mfs:\n",
        "        json.dump(data, mfs)\n",
        "    return manifest"
      ]
    },
    {
      "cell_type": "code",
      "execution_count": null,
      "id": "529644d7",
      "metadata": {
        "id": "529644d7"
      },
      "outputs": [],
      "source": [
        "# -------------\n",
        "# GCloud upload\n",
        "# -------------\n",
        "# uncomment below if bucket is defined\n",
        "# uri = f'{BUCKET}/{Path(TRG_TIFF).name}'\n",
        "# cmd = f'gsutil cp {TRG_TIFF} {BUCKET}'\n",
        "# info = f'{\"-\" * len(cmd)}'\n",
        "# print(f'{info}\\n{cmd}\\n{info}')\n",
        "# subprocess.check_call(cmd, shell=True)"
      ]
    },
    {
      "cell_type": "code",
      "execution_count": null,
      "id": "8a85b8e8",
      "metadata": {
        "id": "8a85b8e8"
      },
      "outputs": [],
      "source": [
        "# --------------\n",
        "# build manifest\n",
        "# --------------\n",
        "# uncomment below if file is being uploaded through GCloud\n",
        "# manifest = build_manifest(file=TRG_TIFF, \n",
        "#                           asset_id=ASSET_ID, \n",
        "#                           asset_name=ASSET_NAME, \n",
        "#                           uri=uri)"
      ]
    },
    {
      "cell_type": "markdown",
      "id": "4fb4bcbb",
      "metadata": {
        "id": "4fb4bcbb"
      },
      "source": [
        "# Upload the file to GEE\n",
        "\n",
        "[Return to the \"Table of contents\"](#Table-of-contents)\n",
        "\n",
        "## Start an authorized session\n",
        "\n",
        "To be able to upload the file into your Earth Engine asset, you need to authenticate as you when you make the request.  You can use credentials from the Earth Engine authentictor to start an [`AuthorizedSession`](https://google-auth.readthedocs.io/en/master/reference/google.auth.transport.requests.html#google.auth.transport.requests.AuthorizedSession).  You can then use the `AuthorizedSession` to send requests to Earth Engine."
      ]
    },
    {
      "cell_type": "code",
      "execution_count": null,
      "id": "ff220503",
      "metadata": {
        "id": "ff220503"
      },
      "outputs": [],
      "source": [
        "# import ee\n",
        "# from google.auth.transport.requests import AuthorizedSession\n",
        "\n",
        "# ee.Authenticate()  #  or !earthengine authenticate --auth_mode=gcloud\n",
        "# session = AuthorizedSession(ee.data.get_persistent_credentials())"
      ]
    },
    {
      "cell_type": "code",
      "execution_count": null,
      "id": "b50a245d",
      "metadata": {
        "id": "b50a245d"
      },
      "outputs": [],
      "source": [
        "# ----------------\n",
        "# Send file to GEE\n",
        "# ----------------  \n",
        "# cmd = f'earthengine upload image --manifest {manifest}'\n",
        "# task = subprocess.check_output(cmd, shell=True)\n",
        "# print(task)"
      ]
    }
  ],
  "metadata": {
    "kernelspec": {
      "display_name": "Python 3 (ipykernel)",
      "language": "python",
      "name": "python3"
    },
    "language_info": {
      "codemirror_mode": {
        "name": "ipython",
        "version": 3
      },
      "file_extension": ".py",
      "mimetype": "text/x-python",
      "name": "python",
      "nbconvert_exporter": "python",
      "pygments_lexer": "ipython3",
      "version": "3.9.12"
    },
    "colab": {
      "name": "swathresample.ipynb",
      "provenance": []
    }
  },
  "nbformat": 4,
  "nbformat_minor": 5
}